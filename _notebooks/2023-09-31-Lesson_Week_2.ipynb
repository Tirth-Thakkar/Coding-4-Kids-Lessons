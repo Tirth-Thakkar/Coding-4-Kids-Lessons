{
 "cells": [
  {
   "attachments": {},
   "cell_type": "markdown",
   "metadata": {},
   "source": [
    "---\n",
    "toc: true\n",
    "comments: true\n",
    "layout: notebook\n",
    "author: Tirth Thakkar \n",
    "title: Week 1 Lesson and Notes\n",
    "description: Class one content and examples\n",
    "categories: [week01]\n",
    "---\n"
   ]
  },
  {
   "cell_type": "markdown",
   "metadata": {},
   "source": [
    "## Quiz\n",
    "Dictionary being used to run the quiz. With user input being processed using the input function learned about in class and the if/else statements to determine if the user input is correct or incorrect."
   ]
  },
  {
   "cell_type": "code",
   "execution_count": 1,
   "metadata": {},
   "outputs": [
    {
     "name": "stdout",
     "output_type": "stream",
     "text": [
      "Dynamic code is code that has inputs and outputs that can change?\n",
      "Your answer true is the correct correct\n",
      "What is the keyword for defining a function in Python?\n",
      "Your answer cheese doesn't equal the correct answer/s which is def\n",
      "In Jupyter Notebooks the Input is in line with the Output\n",
      "Your answer  doesn't equal the correct answer/s which is false\n",
      "What is grouping often used commands called?\n",
      "Your answer  doesn't equal the correct answer/s which is procedural abstraction\n",
      "Your score is 1 out of 4 points.\n"
     ]
    }
   ],
   "source": [
    "Q_Bank = {\n",
    "    \"Dynamic code is code that has inputs and outputs that can change?\":\"true\",\n",
    "    \"What is the keyword for defining a function in Python?\": \"def\",\n",
    "    \"In Jupyter Notebooks the Input is in line with the Output\": \"false\",\n",
    "    \"What is grouping often used commands called?\": \"procedural abstraction\",\n",
    "}\n",
    "\n",
    "score = 0 # Variables like score and Q_Bank can store a variety of data types from score which is an integer to Q_Bank which is a dictionary\n",
    "for Q, ans in Q_Bank.items():\n",
    "    print(Q)\n",
    "    rsp = input(Q)\n",
    "    if rsp.lower().strip() == ans.lower().strip():\n",
    "        print(f\"Your answer {rsp} is the correct correct\")\n",
    "        score += 1\n",
    "    else:\n",
    "        print(f\"Your answer {rsp} doesn't equal the correct answer/s which is {ans}\")\n",
    "print(f\"Your score is {score} out of {len(Q_Bank)} points.\")\n"
   ]
  },
  {
   "cell_type": "code",
   "execution_count": 4,
   "metadata": {},
   "outputs": [
    {
     "name": "stdout",
     "output_type": "stream",
     "text": [
      "The perimeter of your rectangle is 28 units\n",
      "The area of your rectangle is 24 units\n"
     ]
    }
   ],
   "source": [
    "# Making a rectangle and area program with user input in python\n",
    "\n",
    "user_length = int(input(\"Please enter the length of you rectangle:\")) \n",
    "user_width = int(input(\"Please enter the width of your rectangle:\"))\n",
    "\n",
    "# Perimeter of a rectangle is 2(l+w)\n",
    "\n",
    "perimeter = 2*(user_length + user_width)\n",
    "# print(f\"The perimeter of your rectangle is {perimeter}\")\n",
    "print(\"The perimeter of your rectangle is \" + str(perimeter) + \" units\")\n",
    "\n",
    "# Area of a rectangle is l*w\n",
    "\n",
    "area = user_length * user_width\n",
    "# print(f\"The area of your rectangle is {area}\")\n",
    "print(\"The area of your rectangle is \" + str(area) + \" units\")"
   ]
  },
  {
   "cell_type": "markdown",
   "metadata": {},
   "source": [
    "## Conditional Statements \n",
    "- When a conditional statement is used, it is used to determine if a statement is true or false. Then depending on the outcome of the statement, the program will run a certain way. There are three different conditional statements within python `if`, `elif`, and `else`. The `if` statement is used to determine if a statement is true or false. The `elif` statement is used to determine if the previous statement was false and if the current statement is true. The `else` statement is used to determine if the previous statement was false and if the current statement is false. Seen bellow in code segments from in class. "
   ]
  },
  {
   "cell_type": "code",
   "execution_count": 2,
   "metadata": {},
   "outputs": [
    {
     "name": "stdout",
     "output_type": "stream",
     "text": [
      "You are eligible to vote\n"
     ]
    }
   ],
   "source": [
    "# Voting eligibility program\n",
    "\n",
    "user_age = int(input(\"What is your age?\"))\n",
    "user_citizen = input(\"Are you a citizen of the United States?\")\n",
    "\n",
    "if user_age >= 18 and user_citizen.lower().strip() == \"yes\":\n",
    "   print(\"You are eligible to vote\")\n",
    "\n",
    "else:\n",
    "    print(\"You are not eligible to vote\")\n"
   ]
  },
  {
   "cell_type": "code",
   "execution_count": 3,
   "metadata": {},
   "outputs": [
    {
     "name": "stdout",
     "output_type": "stream",
     "text": [
      "You will be eligible to vote in 9 years\n"
     ]
    }
   ],
   "source": [
    "# Voting eligibility program\n",
    "\n",
    "user_age = int(input(\"What is your age?\"))\n",
    "user_citizen = input(\"Are you a citizen of the United States?\")\n",
    "\n",
    "if user_age >= 18 and user_citizen.lower().strip() == \"yes\":\n",
    "   print(\"You are eligible to vote\")\n",
    "\n",
    "# Elif or else if to evaluate another condition\n",
    "elif user_age < 18 and user_citizen.lower().strip() == \"yes\":\n",
    "    print(f\"You will be eligible to vote in {18 - user_age} years\")\n",
    "\n",
    "else:\n",
    "    print(\"You are not eligible to vote\")\n",
    " "
   ]
  },
  {
   "cell_type": "code",
   "execution_count": 1,
   "metadata": {
    "vscode": {
     "languageId": "javascript"
    }
   },
   "outputs": [
    {
     "name": "stdout",
     "output_type": "stream",
     "text": [
      "You are eligible to vote\n"
     ]
    }
   ],
   "source": [
    "let age = 18\n",
    "let citizen = \"yes\"\n",
    "\n",
    "if (age >= 18 && citizen == \"yes\") {\n",
    "    console.log(\"You are eligible to vote\")\n",
    "}"
   ]
  }
 ],
 "metadata": {
  "kernelspec": {
   "display_name": "Python 3",
   "language": "python",
   "name": "python3"
  },
  "language_info": {
   "codemirror_mode": {
    "name": "ipython",
    "version": 3
   },
   "file_extension": ".py",
   "mimetype": "text/x-python",
   "name": "python",
   "nbconvert_exporter": "python",
   "pygments_lexer": "ipython3",
   "version": "3.11.5"
  },
  "orig_nbformat": 4
 },
 "nbformat": 4,
 "nbformat_minor": 2
}
