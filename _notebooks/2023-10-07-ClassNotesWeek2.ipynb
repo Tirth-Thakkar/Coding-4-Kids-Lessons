{
 "cells": [
  {
   "cell_type": "markdown",
   "metadata": {},
   "source": [
    "---\n",
    "toc: True\n",
    "comments: True\n",
    "layout: notebook\n",
    "author: Tirth Thakkar\n",
    "title: Week 2 Lesson and Notes\n",
    "description: Class two content and examples\n",
    "categories: ['week02']\n",
    "---"
   ]
  },
  {
   "cell_type": "markdown",
   "metadata": {},
   "source": [
    "`Datatypes` are categories of data that are used to store information. With each datatype, there are different operations that can be performed on them from concatenation with strings to numerical operations with integers each datatype has its own function.  "
   ]
  },
  {
   "cell_type": "code",
   "execution_count": null,
   "metadata": {},
   "outputs": [],
   "source": [
    "variable1: int = 1\n",
    "variable2: str = \"hello\"\n"
   ]
  },
  {
   "cell_type": "markdown",
   "metadata": {},
   "source": [
    "Variable Declaration Syntax:"
   ]
  },
  {
   "cell_type": "code",
   "execution_count": null,
   "metadata": {},
   "outputs": [],
   "source": [
    "hasCookies: bool = True # if you prefer hasCookies = True\n",
    "\n"
   ]
  },
  {
   "cell_type": "markdown",
   "metadata": {},
   "source": [
    "Write a program that takes in a user's input for how many cookies they have in their house if they have greater than or equal to 10 cookies say \"wow can I have one\" and if they have less than 10 but more than 4  say \"would you like to buy some of mine\" otherwise say \"that's so sad\". Practice with different concepts, conditional statements, comparisons, user input, converting datatypes, and printing. "
   ]
  },
  {
   "cell_type": "code",
   "execution_count": 6,
   "metadata": {},
   "outputs": [
    {
     "name": "stdout",
     "output_type": "stream",
     "text": [
      "That's not that many cookies.\n"
     ]
    }
   ],
   "source": [
    "cookieAmount: int = int(input(\"How many cookies do you have?\"))\n",
    "\n",
    "if cookieAmount >= 10:\n",
    "    print(\"That's a lot of cookies!\")\n",
    "\n",
    "elif cookieAmount < 10 and cookieAmount > 4:\n",
    "    print(\"Would you like to buy some of mine?\")\n",
    "\n",
    "else:\n",
    "    print(\"That's not that many cookies.\")"
   ]
  }
 ],
 "metadata": {
  "kernelspec": {
   "display_name": "Python 3",
   "language": "python",
   "name": "python3"
  },
  "language_info": {
   "codemirror_mode": {
    "name": "ipython",
    "version": 3
   },
   "file_extension": ".py",
   "mimetype": "text/x-python",
   "name": "python",
   "nbconvert_exporter": "python",
   "pygments_lexer": "ipython3",
   "version": "3.11.5"
  }
 },
 "nbformat": 4,
 "nbformat_minor": 2
}
