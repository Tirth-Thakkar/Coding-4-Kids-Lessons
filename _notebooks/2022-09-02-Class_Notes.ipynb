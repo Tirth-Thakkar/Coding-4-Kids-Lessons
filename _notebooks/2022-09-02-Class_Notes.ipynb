{
 "cells": [
  {
   "attachments": {},
   "cell_type": "markdown",
   "metadata": {},
   "source": [
    "---\n",
    "toc: true\n",
    "comments: true\n",
    "layout: notebook\n",
    "author: Tirth Thakkar \n",
    "title: test\n",
    "description: test\n",
    "categories: [test]\n",
    "---"
   ]
  },
  {
   "cell_type": "markdown",
   "metadata": {},
   "source": [
    "## Quiz\n",
    "Dictionary being used to run the quiz."
   ]
  },
  {
   "cell_type": "code",
   "execution_count": 1,
   "metadata": {
    "vscode": {
     "languageId": "javascript"
    }
   },
   "outputs": [
    {
     "name": "stdout",
     "output_type": "stream",
     "text": [
      "Dynamic code is code that has inputs and outputs that can change?\n",
      "Your answer true is the correct correct\n",
      "What is the keyword for defining a function in Python?\n",
      "Your answer cheese doesn't equal the correct answer/s which is def\n",
      "In Jupyter Notebooks the Input is in line with the Output\n",
      "Your answer  doesn't equal the correct answer/s which is false\n",
      "What is grouping often used commands called?\n",
      "Your answer  doesn't equal the correct answer/s which is procedural abstraction\n",
      "Your score is 1 out of 4 points.\n"
     ]
    }
   ],
   "source": [
    "Q_Bank = {\n",
    "    \"Dynamic code is code that has inputs and outputs that can change?\":\"true\",\n",
    "    \"What is the keyword for defining a function in Python?\": \"def\",\n",
    "    \"In Jupyter Notebooks the Input is in line with the Output\": \"false\",\n",
    "    \"What is grouping often used commands called?\": \"procedural abstraction\",\n",
    "}\n",
    "\n",
    "score = 0\n",
    "for Q, ans in Q_Bank.items():\n",
    "    print(Q)\n",
    "    rsp = input(Q)\n",
    "    if rsp.lower().strip() == ans.lower().strip():\n",
    "        print(f\"Your answer {rsp} is the correct correct\")\n",
    "        score += 1\n",
    "    else:\n",
    "        print(f\"Your answer {rsp} doesn't equal the correct answer/s which is {ans}\")\n",
    "print(f\"Your score is {score} out of {len(Q_Bank)} points.\")\n"
   ]
  },
  {
   "cell_type": "code",
   "execution_count": 4,
   "metadata": {
    "vscode": {
     "languageId": "javascript"
    }
   },
   "outputs": [
    {
     "name": "stdout",
     "output_type": "stream",
     "text": [
      "The perimeter of your rectangle is 28 units\n",
      "The area of your rectangle is 24 units\n"
     ]
    }
   ],
   "source": [
    "# Making a rectangle and area program with user input in python\n",
    "\n",
    "user_length = int(input(\"Please enter the length of you rectangle:\"))\n",
    "user_width = int(input(\"Please enter the width of your rectangle:\"))\n",
    "\n",
    "# Perimeter of a rectangle is 2(l+w)\n",
    "\n",
    "perimeter = 2*(user_length + user_width)\n",
    "# print(f\"The perimeter of your rectangle is {perimeter}\")\n",
    "print(\"The perimeter of your rectangle is \" + str(perimeter) + \" units\")\n",
    "\n",
    "# Area of a rectangle is l*w\n",
    "\n",
    "area = user_length * user_width\n",
    "# print(f\"The area of your rectangle is {area}\")\n",
    "print(\"The area of your rectangle is \" + str(area) + \" units\")"
   ]
  },
  {
   "cell_type": "code",
   "execution_count": 12,
   "metadata": {
    "vscode": {
     "languageId": "javascript"
    }
   },
   "outputs": [
    {
     "ename": "ValueError",
     "evalue": "invalid literal for int() with base 10: ''",
     "output_type": "error",
     "traceback": [
      "\u001b[0;31m---------------------------------------------------------------------------\u001b[0m",
      "\u001b[0;31mValueError\u001b[0m                                Traceback (most recent call last)",
      "\u001b[1;32m/home/tirth/vscode/APCSP-Blog/_notebooks/2022-09-02-Dictionary_Quiz.ipynb Cell 5\u001b[0m line \u001b[0;36m<cell line: 3>\u001b[0;34m()\u001b[0m\n\u001b[1;32m      <a href='vscode-notebook-cell://wsl%2Bubuntu/home/tirth/vscode/APCSP-Blog/_notebooks/2022-09-02-Dictionary_Quiz.ipynb#W4sdnNjb2RlLXJlbW90ZQ%3D%3D?line=0'>1</a>\u001b[0m \u001b[39m# Voting eligibility program\u001b[39;00m\n\u001b[0;32m----> <a href='vscode-notebook-cell://wsl%2Bubuntu/home/tirth/vscode/APCSP-Blog/_notebooks/2022-09-02-Dictionary_Quiz.ipynb#W4sdnNjb2RlLXJlbW90ZQ%3D%3D?line=2'>3</a>\u001b[0m user_age \u001b[39m=\u001b[39m \u001b[39mint\u001b[39;49m(\u001b[39minput\u001b[39;49m(\u001b[39m\"\u001b[39;49m\u001b[39mWhat is your age?\u001b[39;49m\u001b[39m\"\u001b[39;49m))\n\u001b[1;32m      <a href='vscode-notebook-cell://wsl%2Bubuntu/home/tirth/vscode/APCSP-Blog/_notebooks/2022-09-02-Dictionary_Quiz.ipynb#W4sdnNjb2RlLXJlbW90ZQ%3D%3D?line=3'>4</a>\u001b[0m user_citizen \u001b[39m=\u001b[39m \u001b[39minput\u001b[39m(\u001b[39m\"\u001b[39m\u001b[39mAre you a citizen of the United States?\u001b[39m\u001b[39m\"\u001b[39m)\n\u001b[1;32m      <a href='vscode-notebook-cell://wsl%2Bubuntu/home/tirth/vscode/APCSP-Blog/_notebooks/2022-09-02-Dictionary_Quiz.ipynb#W4sdnNjb2RlLXJlbW90ZQ%3D%3D?line=5'>6</a>\u001b[0m \u001b[39mif\u001b[39;00m user_age \u001b[39m>\u001b[39m\u001b[39m=\u001b[39m \u001b[39m18\u001b[39m \u001b[39mand\u001b[39;00m user_citizen\u001b[39m.\u001b[39mlower()\u001b[39m.\u001b[39mstrip() \u001b[39m==\u001b[39m \u001b[39m\"\u001b[39m\u001b[39myes\u001b[39m\u001b[39m\"\u001b[39m:\n",
      "\u001b[0;31mValueError\u001b[0m: invalid literal for int() with base 10: ''"
     ]
    }
   ],
   "source": [
    "# Voting eligibility program\n",
    "\n",
    "user_age = int(input(\"What is your age?\"))\n",
    "user_citizen = input(\"Are you a citizen of the United States?\")\n",
    "\n",
    "if user_age >= 18 and user_citizen.lower().strip() == \"yes\":\n",
    "   print(\"You are eligible to vote\")\n",
    "\n",
    "else:\n",
    "    print(\"You are not eligible to vote\")\n"
   ]
  },
  {
   "cell_type": "code",
   "execution_count": 4,
   "metadata": {
    "vscode": {
     "languageId": "javascript"
    }
   },
   "outputs": [
    {
     "ename": "TypeError",
     "evalue": "Identifier 'age' has already been declared",
     "output_type": "error",
     "traceback": [
      "evalmachine.<anonymous>:1",
      "let age = 18",
      "^",
      "",
      "TypeError: Identifier 'age' has already been declared",
      "    at evalmachine.<anonymous>:1:1",
      "    at ContextifyScript.Script.runInThisContext (vm.js:25:33)",
      "    at Object.runInThisContext (vm.js:97:38)",
      "    at run ([eval]:1020:15)",
      "    at onRunRequest ([eval]:864:18)",
      "    at onMessage ([eval]:828:13)",
      "    at emitTwo (events.js:106:13)",
      "    at process.emit (events.js:191:7)",
      "    at process.nextTick (internal/child_process.js:758:12)",
      "    at _combinedTickCallback (internal/process/next_tick.js:73:7)"
     ]
    }
   ],
   "source": [
    "let age = 18\n",
    "let citizen = \"yes\"\n",
    "\n",
    "if (age >= 18 && citizen == \"yes\") {\n",
    "    console.log(\"You are eligible to vote\")\n",
    "}"
   ]
  }
 ],
 "metadata": {
  "kernelspec": {
   "display_name": "Python 3",
   "language": "python",
   "name": "python3"
  },
  "language_info": {
   "file_extension": ".js",
   "mimetype": "application/javascript",
   "name": "python",
   "version": "3.11.5"
  },
  "orig_nbformat": 4
 },
 "nbformat": 4,
 "nbformat_minor": 2
}
